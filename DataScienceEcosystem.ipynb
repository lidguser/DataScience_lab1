{
 "cells": [
  {
   "cell_type": "markdown",
   "id": "5144796f-edfa-4211-92ca-4074d6055db2",
   "metadata": {},
   "source": [
    "# Data Science Tools and Ecosystem"
   ]
  },
  {
   "cell_type": "markdown",
   "id": "f8bbf755-5665-4014-bb49-cab948180b82",
   "metadata": {},
   "source": [
    "In this notebook, Data Science Tools and Ecosystem are summarized."
   ]
  },
  {
   "cell_type": "markdown",
   "id": "6a4b8243-05c7-4677-855b-5d2a85d17ffc",
   "metadata": {},
   "source": [
    "**Objectives:**\n",
    "\n",
    "- List of popular languages for Data Science.\n",
    "- List of popular libraries in Data Science.\n",
    "- Example of arithmetic operation."
   ]
  },
  {
   "cell_type": "markdown",
   "id": "63489d19-45cc-4160-b6e9-b37fcbfc426c",
   "metadata": {},
   "source": [
    "Some of the popular languages that Data Scientists use are:"
   ]
  },
  {
   "cell_type": "markdown",
   "id": "2c728d47-e0bb-4a04-b82e-5c150f2be103",
   "metadata": {},
   "source": [
    "1. **Python**\n",
    "2. **R**\n",
    "3. **Java**"
   ]
  },
  {
   "cell_type": "markdown",
   "id": "df48530c-5dc9-4c00-8f46-2513fc451935",
   "metadata": {},
   "source": [
    "Some of the commonly used libraries used by Data Scientists include:"
   ]
  },
  {
   "cell_type": "markdown",
   "id": "0972663d-eb5a-4fe1-9a8f-4218f4c0078d",
   "metadata": {
    "tags": []
   },
   "source": [
    "1. **NumPy**\n",
    "2. **Pandas**\n",
    "3. **Matplotlib**"
   ]
  },
  {
   "cell_type": "markdown",
   "id": "0595402a-bb67-4393-a0b0-933eeca396a6",
   "metadata": {},
   "source": [
    "| Data Science Tools |\n",
    "|--------------------|\n",
    "| Jupyter Notebook   |\n",
    "| RStudio            |\n",
    "| Spyder             |"
   ]
  },
  {
   "cell_type": "markdown",
   "id": "eeccd3cd-3e40-479a-bb1a-879a2c30f3f7",
   "metadata": {},
   "source": [
    "### Below are a few examples of evaluating arithmetic expressions in Python"
   ]
  },
  {
   "cell_type": "code",
   "execution_count": 6,
   "id": "ddcc8792-afca-4e0f-a4f8-321f8a238064",
   "metadata": {
    "tags": []
   },
   "outputs": [
    {
     "data": {
      "text/plain": [
       "17"
      ]
     },
     "execution_count": 6,
     "metadata": {},
     "output_type": "execute_result"
    }
   ],
   "source": [
    "# This a simple arithmetic expression to mutiply then add integers\n",
    "(3*4)+5"
   ]
  },
  {
   "cell_type": "code",
   "execution_count": 7,
   "id": "b35f91ec-a784-4d51-ba5d-5a65b4fdc043",
   "metadata": {
    "tags": []
   },
   "outputs": [
    {
     "data": {
      "text/plain": [
       "3.3333333333333335"
      ]
     },
     "execution_count": 7,
     "metadata": {},
     "output_type": "execute_result"
    }
   ],
   "source": [
    "# This will convert 200 minutes to hours by diving by 60\n",
    "200/60"
   ]
  },
  {
   "cell_type": "markdown",
   "id": "f6a173d4-fc22-4c72-9e8a-98979cebe710",
   "metadata": {},
   "source": [
    "## Author\n",
    "Lidiia Golovko"
   ]
  },
  {
   "cell_type": "code",
   "execution_count": null,
   "id": "c40e7d74-6b7d-4b25-92b2-3ab50da4d803",
   "metadata": {},
   "outputs": [],
   "source": []
  }
 ],
 "metadata": {
  "kernelspec": {
   "display_name": "Python",
   "language": "python",
   "name": "conda-env-python-py"
  },
  "language_info": {
   "codemirror_mode": {
    "name": "ipython",
    "version": 3
   },
   "file_extension": ".py",
   "mimetype": "text/x-python",
   "name": "python",
   "nbconvert_exporter": "python",
   "pygments_lexer": "ipython3",
   "version": "3.7.12"
  }
 },
 "nbformat": 4,
 "nbformat_minor": 5
}
